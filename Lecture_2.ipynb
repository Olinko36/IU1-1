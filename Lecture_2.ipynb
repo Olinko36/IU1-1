{
 "cells": [
  {
   "cell_type": "markdown",
   "id": "83618ef3",
   "metadata": {},
   "source": [
    "# Массивы"
   ]
  },
  {
   "cell_type": "code",
   "execution_count": 1,
   "id": "accaa7ad",
   "metadata": {},
   "outputs": [],
   "source": [
    "arr = []"
   ]
  },
  {
   "cell_type": "code",
   "execution_count": 3,
   "id": "b293eb1a",
   "metadata": {},
   "outputs": [
    {
     "data": {
      "text/plain": [
       "list"
      ]
     },
     "execution_count": 3,
     "metadata": {},
     "output_type": "execute_result"
    }
   ],
   "source": [
    "type(arr)"
   ]
  },
  {
   "cell_type": "code",
   "execution_count": 6,
   "id": "559a97ab",
   "metadata": {},
   "outputs": [
    {
     "name": "stdout",
     "output_type": "stream",
     "text": [
      "[1, 2, 3]\n"
     ]
    }
   ],
   "source": [
    "arr = [1, 2, 3]\n",
    "print(arr)"
   ]
  },
  {
   "cell_type": "code",
   "execution_count": 7,
   "id": "a9ca5144",
   "metadata": {},
   "outputs": [],
   "source": [
    "arr2 = list()"
   ]
  },
  {
   "cell_type": "code",
   "execution_count": 8,
   "id": "e5b94126",
   "metadata": {},
   "outputs": [
    {
     "data": {
      "text/plain": [
       "list"
      ]
     },
     "execution_count": 8,
     "metadata": {},
     "output_type": "execute_result"
    }
   ],
   "source": [
    "type(arr2)"
   ]
  },
  {
   "cell_type": "code",
   "execution_count": 9,
   "id": "78562a81",
   "metadata": {},
   "outputs": [],
   "source": [
    "arr = [1, 2, 3, 4, 5]"
   ]
  },
  {
   "cell_type": "code",
   "execution_count": 12,
   "id": "e5bd4e7a",
   "metadata": {},
   "outputs": [
    {
     "name": "stdout",
     "output_type": "stream",
     "text": [
      "1\n",
      "\n",
      "1\n",
      "2\n",
      "3\n",
      "4\n",
      "5\n"
     ]
    }
   ],
   "source": [
    "print(arr[0])\n",
    "print()\n",
    "for i in range(0, 5):\n",
    "    print(arr[i])\n"
   ]
  },
  {
   "cell_type": "code",
   "execution_count": 13,
   "id": "8ac82413",
   "metadata": {},
   "outputs": [
    {
     "name": "stdout",
     "output_type": "stream",
     "text": [
      "[[1, 2], [3, 4]]\n"
     ]
    }
   ],
   "source": [
    "a = [[1, 2], [3, 4]]\n",
    "print(a)"
   ]
  },
  {
   "cell_type": "code",
   "execution_count": 14,
   "id": "cd1197c2",
   "metadata": {},
   "outputs": [
    {
     "data": {
      "text/plain": [
       "2"
      ]
     },
     "execution_count": 14,
     "metadata": {},
     "output_type": "execute_result"
    }
   ],
   "source": [
    "a[0][1]"
   ]
  },
  {
   "cell_type": "code",
   "execution_count": 18,
   "id": "c1737cb4",
   "metadata": {},
   "outputs": [
    {
     "name": "stdout",
     "output_type": "stream",
     "text": [
      "[1]\n"
     ]
    }
   ],
   "source": [
    "a = []\n",
    "a.append(1)\n",
    "print(a)"
   ]
  },
  {
   "cell_type": "code",
   "execution_count": 19,
   "id": "868c0cc1",
   "metadata": {},
   "outputs": [],
   "source": [
    "a.append(1.4)\n",
    "a.append(True)\n",
    "a.append(\"hi, friend\")"
   ]
  },
  {
   "cell_type": "code",
   "execution_count": 23,
   "id": "06e42f82",
   "metadata": {},
   "outputs": [
    {
     "name": "stdout",
     "output_type": "stream",
     "text": [
      "3\n"
     ]
    }
   ],
   "source": [
    "a.append(int(input()))"
   ]
  },
  {
   "cell_type": "code",
   "execution_count": 24,
   "id": "6db4b59d",
   "metadata": {
    "scrolled": false
   },
   "outputs": [
    {
     "name": "stdout",
     "output_type": "stream",
     "text": [
      "[1, 1.4, True, 'hi, friend', 3]\n"
     ]
    }
   ],
   "source": [
    "print(a)"
   ]
  },
  {
   "cell_type": "code",
   "execution_count": 30,
   "id": "d933de5e",
   "metadata": {},
   "outputs": [],
   "source": [
    "a.append(3)\n",
    "a.append([1, 2])"
   ]
  },
  {
   "cell_type": "code",
   "execution_count": 31,
   "id": "0b10e2d1",
   "metadata": {},
   "outputs": [
    {
     "name": "stdout",
     "output_type": "stream",
     "text": [
      "[1, 1.4, True, 'hi, friend!', 3, 3, [1, 2]]\n"
     ]
    }
   ],
   "source": [
    "print(a)"
   ]
  },
  {
   "cell_type": "code",
   "execution_count": 32,
   "id": "359729f9",
   "metadata": {},
   "outputs": [
    {
     "data": {
      "text/plain": [
       "[1, 2]"
      ]
     },
     "execution_count": 32,
     "metadata": {},
     "output_type": "execute_result"
    }
   ],
   "source": [
    "a.pop()"
   ]
  },
  {
   "cell_type": "code",
   "execution_count": 34,
   "id": "55765822",
   "metadata": {},
   "outputs": [
    {
     "name": "stdout",
     "output_type": "stream",
     "text": [
      "[1, 1.4, True, 'hi, friend!', 3, 3]\n",
      "\n",
      "3\n",
      "\n",
      "[1, 1.4, True, 'hi, friend!', 3]\n"
     ]
    }
   ],
   "source": [
    "print(a)\n",
    "print()\n",
    "print(a.pop())\n",
    "print()\n",
    "print(a)"
   ]
  },
  {
   "cell_type": "code",
   "execution_count": 35,
   "id": "7a71cfbe",
   "metadata": {},
   "outputs": [
    {
     "name": "stdout",
     "output_type": "stream",
     "text": [
      "[1, 1.4, True, 'hi, friend!', 3]\n",
      "\n",
      "True\n",
      "\n",
      "[1, 1.4, 'hi, friend!', 3]\n"
     ]
    }
   ],
   "source": [
    "print(a)\n",
    "print()\n",
    "print(a.pop(2))\n",
    "print()\n",
    "print(a)"
   ]
  },
  {
   "cell_type": "code",
   "execution_count": 37,
   "id": "501b6b21",
   "metadata": {},
   "outputs": [
    {
     "name": "stdout",
     "output_type": "stream",
     "text": [
      "[]\n"
     ]
    }
   ],
   "source": [
    "a.clear()\n",
    "print(a)"
   ]
  },
  {
   "cell_type": "code",
   "execution_count": 4,
   "id": "bed4fa2b",
   "metadata": {},
   "outputs": [
    {
     "name": "stdout",
     "output_type": "stream",
     "text": [
      "[1, 2, [0, 5], 'privet', True]\n"
     ]
    }
   ],
   "source": [
    "arr = [1, 2, [0, 5], \"privet\", True]\n",
    "print(arr)"
   ]
  },
  {
   "cell_type": "code",
   "execution_count": 5,
   "id": "ddda2018",
   "metadata": {},
   "outputs": [],
   "source": [
    "arr_copy = arr.copy()"
   ]
  },
  {
   "cell_type": "code",
   "execution_count": 6,
   "id": "fd720e75",
   "metadata": {},
   "outputs": [
    {
     "name": "stdout",
     "output_type": "stream",
     "text": [
      "[1, 2, [0, 5], 'privet', True, 55]\n",
      "[1, 2, [0, 5], 'privet', True]\n"
     ]
    }
   ],
   "source": [
    "arr.append(55)\n",
    "print(arr)\n",
    "print(arr_copy)"
   ]
  },
  {
   "cell_type": "code",
   "execution_count": 7,
   "id": "77b8d63f",
   "metadata": {},
   "outputs": [
    {
     "data": {
      "text/plain": [
       "55"
      ]
     },
     "execution_count": 7,
     "metadata": {},
     "output_type": "execute_result"
    }
   ],
   "source": [
    "arr.pop(5)"
   ]
  },
  {
   "cell_type": "code",
   "execution_count": 8,
   "id": "9387e19a",
   "metadata": {},
   "outputs": [
    {
     "name": "stdout",
     "output_type": "stream",
     "text": [
      "[1, 2, [0, 5], 'privet', True]\n"
     ]
    }
   ],
   "source": [
    "print(arr)"
   ]
  },
  {
   "cell_type": "code",
   "execution_count": 13,
   "id": "62f1fb98",
   "metadata": {},
   "outputs": [],
   "source": [
    "arr.append(2)"
   ]
  },
  {
   "cell_type": "code",
   "execution_count": 14,
   "id": "8fd04d33",
   "metadata": {},
   "outputs": [
    {
     "name": "stdout",
     "output_type": "stream",
     "text": [
      "[1, 2, [0, 5], 'privet', True, 2, 'a', 'b', 'c', 2]\n"
     ]
    }
   ],
   "source": [
    "print(arr)\n"
   ]
  },
  {
   "cell_type": "code",
   "execution_count": 15,
   "id": "927c7d16",
   "metadata": {},
   "outputs": [
    {
     "name": "stdout",
     "output_type": "stream",
     "text": [
      "3\n"
     ]
    }
   ],
   "source": [
    "print(arr.count(2))"
   ]
  },
  {
   "cell_type": "code",
   "execution_count": 12,
   "id": "73ed04bd",
   "metadata": {
    "scrolled": true
   },
   "outputs": [
    {
     "name": "stdout",
     "output_type": "stream",
     "text": [
      "[1, 2, [0, 5], 'privet', True, 2, 'a', 'b', 'c']\n"
     ]
    }
   ],
   "source": [
    "tmp = [\"a\", \"b\", \"c\"]\n",
    "arr.extend(tmp)\n",
    "print(arr)"
   ]
  },
  {
   "cell_type": "code",
   "execution_count": 18,
   "id": "88ca19b3",
   "metadata": {},
   "outputs": [
    {
     "data": {
      "text/plain": [
       "[1, 2, [0, 5], 'privet', True, 2, 'a', 'b', 'c', 2]"
      ]
     },
     "execution_count": 18,
     "metadata": {},
     "output_type": "execute_result"
    }
   ],
   "source": [
    "arr"
   ]
  },
  {
   "cell_type": "code",
   "execution_count": 16,
   "id": "58d3b1d1",
   "metadata": {},
   "outputs": [
    {
     "data": {
      "text/plain": [
       "6"
      ]
     },
     "execution_count": 16,
     "metadata": {},
     "output_type": "execute_result"
    }
   ],
   "source": [
    "arr.index(\"a\")"
   ]
  },
  {
   "cell_type": "code",
   "execution_count": 17,
   "id": "dfc81266",
   "metadata": {},
   "outputs": [
    {
     "data": {
      "text/plain": [
       "1"
      ]
     },
     "execution_count": 17,
     "metadata": {},
     "output_type": "execute_result"
    }
   ],
   "source": [
    "arr.index(2)"
   ]
  },
  {
   "cell_type": "code",
   "execution_count": 19,
   "id": "490ee9f2",
   "metadata": {},
   "outputs": [],
   "source": [
    "array = [0, 1, 2, 3, 4, 5]"
   ]
  },
  {
   "cell_type": "code",
   "execution_count": 20,
   "id": "506508bb",
   "metadata": {},
   "outputs": [],
   "source": [
    "array.insert(2, -55)"
   ]
  },
  {
   "cell_type": "code",
   "execution_count": 21,
   "id": "d1eb9157",
   "metadata": {},
   "outputs": [
    {
     "data": {
      "text/plain": [
       "[0, 1, -55, 2, 3, 4, 5]"
      ]
     },
     "execution_count": 21,
     "metadata": {},
     "output_type": "execute_result"
    }
   ],
   "source": [
    "array"
   ]
  },
  {
   "cell_type": "code",
   "execution_count": 23,
   "id": "10736d04",
   "metadata": {},
   "outputs": [],
   "source": [
    "array.append(1)"
   ]
  },
  {
   "cell_type": "code",
   "execution_count": 24,
   "id": "399514a2",
   "metadata": {},
   "outputs": [
    {
     "data": {
      "text/plain": [
       "[0, 1, -55, 2, 3, 4, 5, 1, 1]"
      ]
     },
     "execution_count": 24,
     "metadata": {},
     "output_type": "execute_result"
    }
   ],
   "source": [
    "array"
   ]
  },
  {
   "cell_type": "code",
   "execution_count": 25,
   "id": "bf8aa4a9",
   "metadata": {},
   "outputs": [
    {
     "name": "stdout",
     "output_type": "stream",
     "text": [
      "[0, -55, 2, 3, 4, 5, 1, 1]\n"
     ]
    }
   ],
   "source": [
    "array.remove(1)\n",
    "print(array)"
   ]
  },
  {
   "cell_type": "code",
   "execution_count": 26,
   "id": "2921b679",
   "metadata": {},
   "outputs": [
    {
     "name": "stdout",
     "output_type": "stream",
     "text": [
      "[0, -55, 2, 3, 4, 5, 1]\n"
     ]
    }
   ],
   "source": [
    "array.remove(1)\n",
    "print(array)"
   ]
  },
  {
   "cell_type": "code",
   "execution_count": 29,
   "id": "2e44bad4",
   "metadata": {},
   "outputs": [
    {
     "name": "stdout",
     "output_type": "stream",
     "text": [
      "[0, -55, 2, 3, 4, 5, 1]\n",
      "[1, 5, 4, 3, 2, -55, 0]\n"
     ]
    }
   ],
   "source": [
    "print(array)\n",
    "array.reverse()\n",
    "print(array)"
   ]
  },
  {
   "cell_type": "code",
   "execution_count": 30,
   "id": "96f230dc",
   "metadata": {},
   "outputs": [
    {
     "data": {
      "text/plain": [
       "[1, 5, 4, 3, 2, -55, 0]"
      ]
     },
     "execution_count": 30,
     "metadata": {},
     "output_type": "execute_result"
    }
   ],
   "source": [
    "array"
   ]
  },
  {
   "cell_type": "code",
   "execution_count": 32,
   "id": "c20ae8b3",
   "metadata": {},
   "outputs": [
    {
     "name": "stdout",
     "output_type": "stream",
     "text": [
      "[-55, 0, 1, 2, 3, 4, 5]\n"
     ]
    }
   ],
   "source": [
    "array.sort()\n",
    "print(array)"
   ]
  },
  {
   "cell_type": "code",
   "execution_count": 33,
   "id": "8352afb9",
   "metadata": {},
   "outputs": [
    {
     "name": "stdout",
     "output_type": "stream",
     "text": [
      "[5, 4, 3, 2, 1, 0, -55]\n"
     ]
    }
   ],
   "source": [
    "array.sort(reverse = True)\n",
    "print(array)"
   ]
  },
  {
   "cell_type": "code",
   "execution_count": 34,
   "id": "b120c27e",
   "metadata": {},
   "outputs": [
    {
     "name": "stdout",
     "output_type": "stream",
     "text": [
      "5\n",
      "4\n",
      "3\n",
      "2\n",
      "1\n",
      "0\n",
      "-55\n"
     ]
    }
   ],
   "source": [
    "for element in array:\n",
    "    print(element)"
   ]
  },
  {
   "cell_type": "code",
   "execution_count": 35,
   "id": "b6422301",
   "metadata": {},
   "outputs": [
    {
     "name": "stdout",
     "output_type": "stream",
     "text": [
      "0\n",
      "1\n",
      "2\n",
      "3\n",
      "4\n",
      "5\n",
      "6\n",
      "7\n",
      "8\n",
      "9\n"
     ]
    }
   ],
   "source": [
    "for i in range(0, 10):\n",
    "    print(i)"
   ]
  },
  {
   "cell_type": "code",
   "execution_count": 36,
   "id": "046213dc",
   "metadata": {},
   "outputs": [
    {
     "name": "stdout",
     "output_type": "stream",
     "text": [
      "-5\n",
      "-3\n",
      "-1\n",
      "1\n",
      "3\n"
     ]
    }
   ],
   "source": [
    "for i in range(-5, 5, 2):\n",
    "    print(i)"
   ]
  },
  {
   "cell_type": "code",
   "execution_count": 37,
   "id": "3bf6c51f",
   "metadata": {},
   "outputs": [
    {
     "data": {
      "text/plain": [
       "[1, 2, 3, 4]"
      ]
     },
     "execution_count": 37,
     "metadata": {},
     "output_type": "execute_result"
    }
   ],
   "source": [
    "arr = [0, 1, 2, 3, 4, 5, 6, 7, 8, 9, 10]\n",
    "arr[1:5]"
   ]
  },
  {
   "cell_type": "code",
   "execution_count": 38,
   "id": "8d420696",
   "metadata": {},
   "outputs": [
    {
     "data": {
      "text/plain": [
       "[1, 4, 7]"
      ]
     },
     "execution_count": 38,
     "metadata": {},
     "output_type": "execute_result"
    }
   ],
   "source": [
    "arr[1:8:3]"
   ]
  },
  {
   "cell_type": "code",
   "execution_count": 39,
   "id": "1948131d",
   "metadata": {},
   "outputs": [
    {
     "name": "stdout",
     "output_type": "stream",
     "text": [
      "[0, 1, 2, 3]\n",
      "[5, 6, 7, 8, 9, 10]\n"
     ]
    }
   ],
   "source": [
    "print(arr[:4])\n",
    "print(arr[5:])"
   ]
  },
  {
   "cell_type": "code",
   "execution_count": null,
   "id": "ab1d0bcd",
   "metadata": {},
   "outputs": [],
   "source": []
  },
  {
   "cell_type": "code",
   "execution_count": 45,
   "id": "ed9da2fd",
   "metadata": {},
   "outputs": [],
   "source": [
    "def F(x):\n",
    "    y = x**2\n",
    "    return y"
   ]
  },
  {
   "cell_type": "code",
   "execution_count": 46,
   "id": "d09e42e5",
   "metadata": {},
   "outputs": [
    {
     "data": {
      "text/plain": [
       "9"
      ]
     },
     "execution_count": 46,
     "metadata": {},
     "output_type": "execute_result"
    }
   ],
   "source": [
    "F(-3)"
   ]
  },
  {
   "cell_type": "markdown",
   "id": "1999a367",
   "metadata": {},
   "source": [
    "## Матрица"
   ]
  },
  {
   "cell_type": "code",
   "execution_count": 81,
   "id": "ba2bd4a2",
   "metadata": {},
   "outputs": [],
   "source": [
    "def matrica(m):\n",
    "    for arr in m:\n",
    "        print(arr)"
   ]
  },
  {
   "cell_type": "code",
   "execution_count": 92,
   "id": "779e3b0f",
   "metadata": {},
   "outputs": [
    {
     "name": "stdout",
     "output_type": "stream",
     "text": [
      "[1, 2, 3]\n",
      "[3, 2, 1]\n",
      "\n",
      "[0, 4]\n",
      "[4, 1]\n",
      "[1, 0]\n"
     ]
    }
   ],
   "source": [
    "a = [[1, 2, 3], [3, 2, 1]]\n",
    "b = [[0, 4], [4, 1], [1, 0]]\n",
    "matrica(a)\n",
    "print()\n",
    "matrica(b)"
   ]
  },
  {
   "cell_type": "code",
   "execution_count": 93,
   "id": "d537d2f4",
   "metadata": {},
   "outputs": [],
   "source": [
    "multi = []"
   ]
  },
  {
   "cell_type": "code",
   "execution_count": 94,
   "id": "5bb1d862",
   "metadata": {},
   "outputs": [],
   "source": [
    "def colona(b, ind):\n",
    "    column = []\n",
    "    for row in b:\n",
    "        column.append(row[ind])\n",
    "    return column"
   ]
  },
  {
   "cell_type": "code",
   "execution_count": 95,
   "id": "517f85d8",
   "metadata": {
    "scrolled": true
   },
   "outputs": [
    {
     "data": {
      "text/plain": [
       "[0, 4, 1]"
      ]
     },
     "execution_count": 95,
     "metadata": {},
     "output_type": "execute_result"
    }
   ],
   "source": [
    "colona(b, 0)"
   ]
  },
  {
   "cell_type": "code",
   "execution_count": 96,
   "id": "74b3ffa4",
   "metadata": {},
   "outputs": [],
   "source": [
    "def per_mult(row, column):\n",
    "    res = 0\n",
    "    row_len = len(row)\n",
    "    for i in range(row_len):\n",
    "        res = res + row[i]*column[i]\n",
    "    return res"
   ]
  },
  {
   "cell_type": "code",
   "execution_count": 97,
   "id": "5843dd48",
   "metadata": {},
   "outputs": [],
   "source": [
    "def mult(a, b):\n",
    "    C = []\n",
    "    for row in a:\n",
    "        colomn_number = len(b[0])\n",
    "        c_row =[]\n",
    "        for ind in range(colomn_number):\n",
    "            column = colona(b, ind)\n",
    "            c_row.append(per_mult(row, column))\n",
    "        C.append(c_row)\n",
    "    return C"
   ]
  },
  {
   "cell_type": "code",
   "execution_count": 99,
   "id": "50f7cc95",
   "metadata": {},
   "outputs": [
    {
     "name": "stdout",
     "output_type": "stream",
     "text": [
      "[11, 6]\n",
      "[9, 14]\n"
     ]
    }
   ],
   "source": [
    "C = mult(a, b)\n",
    "matrica(C)"
   ]
  },
  {
   "cell_type": "code",
   "execution_count": null,
   "id": "38003e33",
   "metadata": {},
   "outputs": [],
   "source": []
  },
  {
   "cell_type": "code",
   "execution_count": null,
   "id": "6a6a4513",
   "metadata": {},
   "outputs": [],
   "source": []
  },
  {
   "cell_type": "code",
   "execution_count": 66,
   "id": "676033ed",
   "metadata": {},
   "outputs": [
    {
     "data": {
      "text/plain": [
       "(1, 0, 2, 4)"
      ]
     },
     "execution_count": 66,
     "metadata": {},
     "output_type": "execute_result"
    }
   ],
   "source": [
    "a[0][0], b[0][0], a[1][0], b[1][0]"
   ]
  },
  {
   "cell_type": "code",
   "execution_count": null,
   "id": "55b5ec01",
   "metadata": {},
   "outputs": [],
   "source": [
    "for i in range(2):\n",
    "    for j in range(2):\n",
    "        multi[i] = a[i][i]"
   ]
  },
  {
   "cell_type": "code",
   "execution_count": 69,
   "id": "7028dabb",
   "metadata": {},
   "outputs": [],
   "source": [
    "multi[0] = a[0][0]*b[0][0] + a[1][0]*b[1][0]\n",
    "multi[1] = a[0][0]*b[0][1] + a[0][1]*b[1][1]\n"
   ]
  },
  {
   "cell_type": "code",
   "execution_count": 70,
   "id": "2c3c15ac",
   "metadata": {},
   "outputs": [
    {
     "data": {
      "text/plain": [
       "[8, 6]"
      ]
     },
     "execution_count": 70,
     "metadata": {},
     "output_type": "execute_result"
    }
   ],
   "source": [
    "multi"
   ]
  },
  {
   "cell_type": "code",
   "execution_count": null,
   "id": "ed9d37af",
   "metadata": {},
   "outputs": [],
   "source": []
  },
  {
   "cell_type": "code",
   "execution_count": null,
   "id": "1c37b2df",
   "metadata": {},
   "outputs": [],
   "source": []
  },
  {
   "cell_type": "code",
   "execution_count": 126,
   "id": "d65ff1ca",
   "metadata": {},
   "outputs": [
    {
     "data": {
      "text/plain": [
       "'       333'"
      ]
     },
     "execution_count": 126,
     "metadata": {},
     "output_type": "execute_result"
    }
   ],
   "source": [
    "\"333\".rjust(10)"
   ]
  },
  {
   "cell_type": "code",
   "execution_count": null,
   "id": "4f434daa",
   "metadata": {},
   "outputs": [],
   "source": []
  }
 ],
 "metadata": {
  "kernelspec": {
   "display_name": "Python 3 (ipykernel)",
   "language": "python",
   "name": "python3"
  },
  "language_info": {
   "codemirror_mode": {
    "name": "ipython",
    "version": 3
   },
   "file_extension": ".py",
   "mimetype": "text/x-python",
   "name": "python",
   "nbconvert_exporter": "python",
   "pygments_lexer": "ipython3",
   "version": "3.9.7"
  }
 },
 "nbformat": 4,
 "nbformat_minor": 5
}
