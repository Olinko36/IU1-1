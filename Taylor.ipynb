{
 "cells": [
  {
   "cell_type": "code",
   "execution_count": 18,
   "id": "2452e115",
   "metadata": {},
   "outputs": [],
   "source": [
    "import Library_document"
   ]
  },
  {
   "cell_type": "code",
   "execution_count": 19,
   "id": "8d8d93c0",
   "metadata": {},
   "outputs": [],
   "source": [
    "a = [1, 2, 1, 0]\n",
    "x = 1"
   ]
  },
  {
   "cell_type": "code",
   "execution_count": 21,
   "id": "00071895",
   "metadata": {},
   "outputs": [
    {
     "data": {
      "text/plain": [
       "4.0"
      ]
     },
     "execution_count": 21,
     "metadata": {},
     "output_type": "execute_result"
    }
   ],
   "source": [
    "Library_document.gorner_calc(a, x)"
   ]
  },
  {
   "cell_type": "code",
   "execution_count": 22,
   "id": "8abcf238",
   "metadata": {},
   "outputs": [],
   "source": [
    "from Library_document import gorner_calc"
   ]
  },
  {
   "cell_type": "code",
   "execution_count": 23,
   "id": "96b3d6e3",
   "metadata": {},
   "outputs": [
    {
     "data": {
      "text/plain": [
       "4.0"
      ]
     },
     "execution_count": 23,
     "metadata": {},
     "output_type": "execute_result"
    }
   ],
   "source": [
    "gorner_calc(a, x)"
   ]
  },
  {
   "cell_type": "code",
   "execution_count": 24,
   "id": "b3cae5e8",
   "metadata": {},
   "outputs": [],
   "source": [
    "from Library_document import gorner_calc as Gorner"
   ]
  },
  {
   "cell_type": "code",
   "execution_count": 25,
   "id": "72e7b08f",
   "metadata": {},
   "outputs": [
    {
     "data": {
      "text/plain": [
       "4.0"
      ]
     },
     "execution_count": 25,
     "metadata": {},
     "output_type": "execute_result"
    }
   ],
   "source": [
    "Gorner(a, x)"
   ]
  },
  {
   "cell_type": "code",
   "execution_count": 26,
   "id": "75627b80",
   "metadata": {},
   "outputs": [],
   "source": [
    "def factorial(n):\n",
    "    if type(n) == int:\n",
    "        if n >= 0:\n",
    "            if n == 0:\n",
    "                return 1\n",
    "            else:\n",
    "                result = 1\n",
    "                for i in range(1, n+1):\n",
    "                    result = result * i\n",
    "                return result\n",
    "        print(\"Нельзя посчитать факториал для отрицательного числа\")\n",
    "    else:\n",
    "        print(\"Параметр должен быть целочисленного типа\")"
   ]
  },
  {
   "cell_type": "code",
   "execution_count": 27,
   "id": "89e667d9",
   "metadata": {},
   "outputs": [
    {
     "data": {
      "text/plain": [
       "120"
      ]
     },
     "execution_count": 27,
     "metadata": {},
     "output_type": "execute_result"
    }
   ],
   "source": [
    "factorial(5)"
   ]
  },
  {
   "cell_type": "code",
   "execution_count": 28,
   "id": "a7494cc3",
   "metadata": {},
   "outputs": [
    {
     "data": {
      "text/plain": [
       "1"
      ]
     },
     "execution_count": 28,
     "metadata": {},
     "output_type": "execute_result"
    }
   ],
   "source": [
    "factorial(0)"
   ]
  },
  {
   "cell_type": "code",
   "execution_count": 29,
   "id": "b78cab04",
   "metadata": {},
   "outputs": [
    {
     "name": "stdout",
     "output_type": "stream",
     "text": [
      "Нельзя посчитать факториал для отрицательного числа\n"
     ]
    }
   ],
   "source": [
    "factorial(-2)"
   ]
  },
  {
   "cell_type": "code",
   "execution_count": 30,
   "id": "e5f69fe1",
   "metadata": {},
   "outputs": [
    {
     "name": "stdout",
     "output_type": "stream",
     "text": [
      "Параметр должен быть целочисленного типа\n"
     ]
    }
   ],
   "source": [
    "factorial(2.3)"
   ]
  },
  {
   "cell_type": "code",
   "execution_count": 41,
   "id": "8f014e27",
   "metadata": {},
   "outputs": [],
   "source": [
    "n = 1000\n",
    "a = []\n",
    "for i in range(n+1):\n",
    "    a.append(1/factorial(i))"
   ]
  },
  {
   "cell_type": "code",
   "execution_count": 42,
   "id": "b338e506",
   "metadata": {},
   "outputs": [],
   "source": [
    "x = 100."
   ]
  },
  {
   "cell_type": "code",
   "execution_count": 43,
   "id": "1c73f293",
   "metadata": {},
   "outputs": [
    {
     "data": {
      "text/plain": [
       "2.6881171418126436e+43"
      ]
     },
     "execution_count": 43,
     "metadata": {},
     "output_type": "execute_result"
    }
   ],
   "source": [
    "Gorner(a, x)"
   ]
  },
  {
   "cell_type": "code",
   "execution_count": 44,
   "id": "687364eb",
   "metadata": {},
   "outputs": [],
   "source": [
    "from numpy import exp"
   ]
  },
  {
   "cell_type": "code",
   "execution_count": 45,
   "id": "e1bce76a",
   "metadata": {},
   "outputs": [
    {
     "data": {
      "text/plain": [
       "2.6881171418161356e+43"
      ]
     },
     "execution_count": 45,
     "metadata": {},
     "output_type": "execute_result"
    }
   ],
   "source": [
    "exp(x)"
   ]
  },
  {
   "cell_type": "code",
   "execution_count": null,
   "id": "0c105c04",
   "metadata": {},
   "outputs": [],
   "source": []
  }
 ],
 "metadata": {
  "kernelspec": {
   "display_name": "Python 3 (ipykernel)",
   "language": "python",
   "name": "python3"
  },
  "language_info": {
   "codemirror_mode": {
    "name": "ipython",
    "version": 3
   },
   "file_extension": ".py",
   "mimetype": "text/x-python",
   "name": "python",
   "nbconvert_exporter": "python",
   "pygments_lexer": "ipython3",
   "version": "3.9.7"
  }
 },
 "nbformat": 4,
 "nbformat_minor": 5
}
