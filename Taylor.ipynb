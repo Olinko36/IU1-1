{
 "cells": [
  {
   "cell_type": "code",
   "execution_count": 1,
   "id": "2452e115",
   "metadata": {},
   "outputs": [],
   "source": [
    "import library_document"
   ]
  },
  {
   "cell_type": "code",
   "execution_count": 12,
   "id": "8d8d93c0",
   "metadata": {},
   "outputs": [],
   "source": [
    "a = [1, 2, 1, 0]\n",
    "x = 1"
   ]
  },
  {
   "cell_type": "code",
   "execution_count": 6,
   "id": "00071895",
   "metadata": {},
   "outputs": [
    {
     "data": {
      "text/plain": [
       "4.0"
      ]
     },
     "execution_count": 6,
     "metadata": {},
     "output_type": "execute_result"
    }
   ],
   "source": [
    "library_document.gorner_calc(a, x)"
   ]
  },
  {
   "cell_type": "code",
   "execution_count": 13,
   "id": "8abcf238",
   "metadata": {},
   "outputs": [],
   "source": [
    "from Library_document import gorner_calc"
   ]
  },
  {
   "cell_type": "code",
   "execution_count": 14,
   "id": "96b3d6e3",
   "metadata": {},
   "outputs": [
    {
     "data": {
      "text/plain": [
       "4.0"
      ]
     },
     "execution_count": 14,
     "metadata": {},
     "output_type": "execute_result"
    }
   ],
   "source": [
    "gorner_calc(a, x)"
   ]
  },
  {
   "cell_type": "code",
   "execution_count": 15,
   "id": "b3cae5e8",
   "metadata": {},
   "outputs": [],
   "source": [
    "from Library_document import gorner_calc as Gorner"
   ]
  },
  {
   "cell_type": "code",
   "execution_count": 16,
   "id": "72e7b08f",
   "metadata": {},
   "outputs": [
    {
     "data": {
      "text/plain": [
       "4.0"
      ]
     },
     "execution_count": 16,
     "metadata": {},
     "output_type": "execute_result"
    }
   ],
   "source": [
    "Gorner(a, x)"
   ]
  },
  {
   "cell_type": "code",
   "execution_count": 26,
   "id": "75627b80",
   "metadata": {},
   "outputs": [],
   "source": [
    "def factorial(n):\n",
    "    if type(n) == int:\n",
    "        if n >= 0:\n",
    "            if n == 0:\n",
    "                return 0\n",
    "            else:\n",
    "                result = 1\n",
    "                for i in range(1, n+1):\n",
    "                    result = result * i\n",
    "                return result\n",
    "        print(\"Нельзя посчитать факториал для отрицательного числа\")\n",
    "    else:\n",
    "        print(\"Параметр должен быть целочисленного типа\")"
   ]
  },
  {
   "cell_type": "code",
   "execution_count": 27,
   "id": "89e667d9",
   "metadata": {},
   "outputs": [
    {
     "data": {
      "text/plain": [
       "120"
      ]
     },
     "execution_count": 27,
     "metadata": {},
     "output_type": "execute_result"
    }
   ],
   "source": [
    "factorial(5)"
   ]
  },
  {
   "cell_type": "code",
   "execution_count": 28,
   "id": "a7494cc3",
   "metadata": {},
   "outputs": [
    {
     "data": {
      "text/plain": [
       "0"
      ]
     },
     "execution_count": 28,
     "metadata": {},
     "output_type": "execute_result"
    }
   ],
   "source": [
    "factorial(0)"
   ]
  },
  {
   "cell_type": "code",
   "execution_count": 29,
   "id": "b78cab04",
   "metadata": {},
   "outputs": [
    {
     "name": "stdout",
     "output_type": "stream",
     "text": [
      "Нельзя посчитать факториал для отрицательного числа\n"
     ]
    }
   ],
   "source": [
    "factorial(-2)"
   ]
  },
  {
   "cell_type": "code",
   "execution_count": 30,
   "id": "e5f69fe1",
   "metadata": {},
   "outputs": [
    {
     "name": "stdout",
     "output_type": "stream",
     "text": [
      "Параметр должен быть целочисленного типа\n"
     ]
    }
   ],
   "source": [
    "factorial(2.3)"
   ]
  },
  {
   "cell_type": "code",
   "execution_count": null,
   "id": "8f014e27",
   "metadata": {},
   "outputs": [],
   "source": []
  }
 ],
 "metadata": {
  "kernelspec": {
   "display_name": "Python 3 (ipykernel)",
   "language": "python",
   "name": "python3"
  },
  "language_info": {
   "codemirror_mode": {
    "name": "ipython",
    "version": 3
   },
   "file_extension": ".py",
   "mimetype": "text/x-python",
   "name": "python",
   "nbconvert_exporter": "python",
   "pygments_lexer": "ipython3",
   "version": "3.9.7"
  }
 },
 "nbformat": 4,
 "nbformat_minor": 5
}
